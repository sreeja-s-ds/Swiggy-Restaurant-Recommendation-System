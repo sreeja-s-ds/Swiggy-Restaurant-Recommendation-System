{
 "cells": [
  {
   "cell_type": "code",
   "execution_count": 1,
   "id": "3df5e4a5",
   "metadata": {},
   "outputs": [],
   "source": [
    "import pandas as pd"
   ]
  },
  {
   "cell_type": "code",
   "execution_count": 2,
   "id": "a5e634b8",
   "metadata": {},
   "outputs": [],
   "source": [
    "df = pd.read_csv(\"swiggy.csv\")"
   ]
  },
  {
   "cell_type": "code",
   "execution_count": 3,
   "id": "e022ac9b",
   "metadata": {},
   "outputs": [
    {
     "data": {
      "text/html": [
       "<div>\n",
       "<style scoped>\n",
       "    .dataframe tbody tr th:only-of-type {\n",
       "        vertical-align: middle;\n",
       "    }\n",
       "\n",
       "    .dataframe tbody tr th {\n",
       "        vertical-align: top;\n",
       "    }\n",
       "\n",
       "    .dataframe thead th {\n",
       "        text-align: right;\n",
       "    }\n",
       "</style>\n",
       "<table border=\"1\" class=\"dataframe\">\n",
       "  <thead>\n",
       "    <tr style=\"text-align: right;\">\n",
       "      <th></th>\n",
       "      <th>id</th>\n",
       "      <th>name</th>\n",
       "      <th>city</th>\n",
       "      <th>rating</th>\n",
       "      <th>rating_count</th>\n",
       "      <th>cost</th>\n",
       "      <th>cuisine</th>\n",
       "      <th>lic_no</th>\n",
       "      <th>link</th>\n",
       "      <th>address</th>\n",
       "      <th>menu</th>\n",
       "    </tr>\n",
       "  </thead>\n",
       "  <tbody>\n",
       "    <tr>\n",
       "      <th>0</th>\n",
       "      <td>567335</td>\n",
       "      <td>AB FOODS POINT</td>\n",
       "      <td>Abohar</td>\n",
       "      <td>--</td>\n",
       "      <td>Too Few Ratings</td>\n",
       "      <td>₹ 200</td>\n",
       "      <td>Beverages,Pizzas</td>\n",
       "      <td>22122652000138</td>\n",
       "      <td>https://www.swiggy.com/restaurants/ab-foods-po...</td>\n",
       "      <td>AB FOODS POINT, NEAR RISHI NARANG DENTAL CLINI...</td>\n",
       "      <td>Menu/567335.json</td>\n",
       "    </tr>\n",
       "    <tr>\n",
       "      <th>1</th>\n",
       "      <td>531342</td>\n",
       "      <td>Janta Sweet House</td>\n",
       "      <td>Abohar</td>\n",
       "      <td>4.4</td>\n",
       "      <td>50+ ratings</td>\n",
       "      <td>₹ 200</td>\n",
       "      <td>Sweets,Bakery</td>\n",
       "      <td>12117201000112</td>\n",
       "      <td>https://www.swiggy.com/restaurants/janta-sweet...</td>\n",
       "      <td>Janta Sweet House, Bazar No.9, Circullar Road,...</td>\n",
       "      <td>Menu/531342.json</td>\n",
       "    </tr>\n",
       "    <tr>\n",
       "      <th>2</th>\n",
       "      <td>158203</td>\n",
       "      <td>theka coffee desi</td>\n",
       "      <td>Abohar</td>\n",
       "      <td>3.8</td>\n",
       "      <td>100+ ratings</td>\n",
       "      <td>₹ 100</td>\n",
       "      <td>Beverages</td>\n",
       "      <td>22121652000190</td>\n",
       "      <td>https://www.swiggy.com/restaurants/theka-coffe...</td>\n",
       "      <td>theka coffee desi, sahtiya sadan road city</td>\n",
       "      <td>Menu/158203.json</td>\n",
       "    </tr>\n",
       "    <tr>\n",
       "      <th>3</th>\n",
       "      <td>187912</td>\n",
       "      <td>Singh Hut</td>\n",
       "      <td>Abohar</td>\n",
       "      <td>3.7</td>\n",
       "      <td>20+ ratings</td>\n",
       "      <td>₹ 250</td>\n",
       "      <td>Fast Food,Indian</td>\n",
       "      <td>22119652000167</td>\n",
       "      <td>https://www.swiggy.com/restaurants/singh-hut-n...</td>\n",
       "      <td>Singh Hut, CIRCULAR ROAD NEAR NEHRU PARK ABOHAR</td>\n",
       "      <td>Menu/187912.json</td>\n",
       "    </tr>\n",
       "    <tr>\n",
       "      <th>4</th>\n",
       "      <td>543530</td>\n",
       "      <td>GRILL MASTERS</td>\n",
       "      <td>Abohar</td>\n",
       "      <td>--</td>\n",
       "      <td>Too Few Ratings</td>\n",
       "      <td>₹ 250</td>\n",
       "      <td>Italian-American,Fast Food</td>\n",
       "      <td>12122201000053</td>\n",
       "      <td>https://www.swiggy.com/restaurants/grill-maste...</td>\n",
       "      <td>GRILL MASTERS, ADA Heights, Abohar - Hanumanga...</td>\n",
       "      <td>Menu/543530.json</td>\n",
       "    </tr>\n",
       "  </tbody>\n",
       "</table>\n",
       "</div>"
      ],
      "text/plain": [
       "       id               name    city rating     rating_count   cost  \\\n",
       "0  567335     AB FOODS POINT  Abohar     --  Too Few Ratings  ₹ 200   \n",
       "1  531342  Janta Sweet House  Abohar    4.4      50+ ratings  ₹ 200   \n",
       "2  158203  theka coffee desi  Abohar    3.8     100+ ratings  ₹ 100   \n",
       "3  187912          Singh Hut  Abohar    3.7      20+ ratings  ₹ 250   \n",
       "4  543530      GRILL MASTERS  Abohar     --  Too Few Ratings  ₹ 250   \n",
       "\n",
       "                      cuisine          lic_no  \\\n",
       "0            Beverages,Pizzas  22122652000138   \n",
       "1               Sweets,Bakery  12117201000112   \n",
       "2                   Beverages  22121652000190   \n",
       "3            Fast Food,Indian  22119652000167   \n",
       "4  Italian-American,Fast Food  12122201000053   \n",
       "\n",
       "                                                link  \\\n",
       "0  https://www.swiggy.com/restaurants/ab-foods-po...   \n",
       "1  https://www.swiggy.com/restaurants/janta-sweet...   \n",
       "2  https://www.swiggy.com/restaurants/theka-coffe...   \n",
       "3  https://www.swiggy.com/restaurants/singh-hut-n...   \n",
       "4  https://www.swiggy.com/restaurants/grill-maste...   \n",
       "\n",
       "                                             address              menu  \n",
       "0  AB FOODS POINT, NEAR RISHI NARANG DENTAL CLINI...  Menu/567335.json  \n",
       "1  Janta Sweet House, Bazar No.9, Circullar Road,...  Menu/531342.json  \n",
       "2         theka coffee desi, sahtiya sadan road city  Menu/158203.json  \n",
       "3    Singh Hut, CIRCULAR ROAD NEAR NEHRU PARK ABOHAR  Menu/187912.json  \n",
       "4  GRILL MASTERS, ADA Heights, Abohar - Hanumanga...  Menu/543530.json  "
      ]
     },
     "execution_count": 3,
     "metadata": {},
     "output_type": "execute_result"
    }
   ],
   "source": [
    "df.head()"
   ]
  },
  {
   "cell_type": "code",
   "execution_count": 4,
   "id": "abf2ac46",
   "metadata": {},
   "outputs": [
    {
     "data": {
      "text/plain": [
       "(148541, 11)"
      ]
     },
     "execution_count": 4,
     "metadata": {},
     "output_type": "execute_result"
    }
   ],
   "source": [
    "df.shape"
   ]
  },
  {
   "cell_type": "code",
   "execution_count": 5,
   "id": "acb05152",
   "metadata": {},
   "outputs": [
    {
     "data": {
      "text/html": [
       "<div>\n",
       "<style scoped>\n",
       "    .dataframe tbody tr th:only-of-type {\n",
       "        vertical-align: middle;\n",
       "    }\n",
       "\n",
       "    .dataframe tbody tr th {\n",
       "        vertical-align: top;\n",
       "    }\n",
       "\n",
       "    .dataframe thead th {\n",
       "        text-align: right;\n",
       "    }\n",
       "</style>\n",
       "<table border=\"1\" class=\"dataframe\">\n",
       "  <thead>\n",
       "    <tr style=\"text-align: right;\">\n",
       "      <th></th>\n",
       "      <th>id</th>\n",
       "      <th>name</th>\n",
       "      <th>city</th>\n",
       "      <th>rating</th>\n",
       "      <th>rating_count</th>\n",
       "      <th>cost</th>\n",
       "      <th>cuisine</th>\n",
       "      <th>lic_no</th>\n",
       "      <th>link</th>\n",
       "      <th>address</th>\n",
       "      <th>menu</th>\n",
       "    </tr>\n",
       "  </thead>\n",
       "  <tbody>\n",
       "  </tbody>\n",
       "</table>\n",
       "</div>"
      ],
      "text/plain": [
       "Empty DataFrame\n",
       "Columns: [id, name, city, rating, rating_count, cost, cuisine, lic_no, link, address, menu]\n",
       "Index: []"
      ]
     },
     "execution_count": 5,
     "metadata": {},
     "output_type": "execute_result"
    }
   ],
   "source": [
    "df[df.duplicated()]"
   ]
  },
  {
   "cell_type": "code",
   "execution_count": 6,
   "id": "f53fe439",
   "metadata": {},
   "outputs": [
    {
     "data": {
      "text/plain": [
       "id                0\n",
       "name             86\n",
       "city              0\n",
       "rating           86\n",
       "rating_count     86\n",
       "cost            131\n",
       "cuisine          99\n",
       "lic_no          229\n",
       "link              0\n",
       "address          86\n",
       "menu              0\n",
       "dtype: int64"
      ]
     },
     "execution_count": 6,
     "metadata": {},
     "output_type": "execute_result"
    }
   ],
   "source": [
    "df.isnull().sum()"
   ]
  },
  {
   "cell_type": "code",
   "execution_count": 7,
   "id": "98a7425e",
   "metadata": {},
   "outputs": [],
   "source": [
    "critical_columns = ['name', 'rating', 'rating_count', 'cost', 'cuisine']\n",
    "df_new = df.dropna(subset=critical_columns)"
   ]
  },
  {
   "cell_type": "code",
   "execution_count": 8,
   "id": "d4e4ae69",
   "metadata": {},
   "outputs": [
    {
     "name": "stdout",
     "output_type": "stream",
     "text": [
      "Rows dropped due to missing values: 143\n"
     ]
    }
   ],
   "source": [
    "rows_dropped = df.shape[0] - df_new.shape[0]\n",
    "print(f\"Rows dropped due to missing values: {rows_dropped}\")"
   ]
  },
  {
   "cell_type": "code",
   "execution_count": 7,
   "id": "20e4b865",
   "metadata": {},
   "outputs": [
    {
     "name": "stdout",
     "output_type": "stream",
     "text": [
      "Cleaned data saved as 'cleaned_data.csv'\n"
     ]
    }
   ],
   "source": [
    "df_new.to_csv(\"cleaned_data.csv\", index=False)\n",
    "print(\"Cleaned data saved as 'cleaned_data.csv'\")"
   ]
  },
  {
   "cell_type": "code",
   "execution_count": 9,
   "id": "c634c397",
   "metadata": {},
   "outputs": [],
   "source": [
    "df = df_new"
   ]
  },
  {
   "cell_type": "code",
   "execution_count": 10,
   "id": "2965613d",
   "metadata": {},
   "outputs": [
    {
     "data": {
      "text/plain": [
       "(148398, 11)"
      ]
     },
     "execution_count": 10,
     "metadata": {},
     "output_type": "execute_result"
    }
   ],
   "source": [
    "df.shape"
   ]
  },
  {
   "cell_type": "code",
   "execution_count": 11,
   "id": "9061cedd",
   "metadata": {},
   "outputs": [
    {
     "name": "stdout",
     "output_type": "stream",
     "text": [
      "<class 'pandas.core.frame.DataFrame'>\n",
      "Index: 148398 entries, 0 to 148540\n",
      "Data columns (total 11 columns):\n",
      " #   Column        Non-Null Count   Dtype \n",
      "---  ------        --------------   ----- \n",
      " 0   id            148398 non-null  int64 \n",
      " 1   name          148398 non-null  object\n",
      " 2   city          148398 non-null  object\n",
      " 3   rating        148398 non-null  object\n",
      " 4   rating_count  148398 non-null  object\n",
      " 5   cost          148398 non-null  object\n",
      " 6   cuisine       148398 non-null  object\n",
      " 7   lic_no        148255 non-null  object\n",
      " 8   link          148398 non-null  object\n",
      " 9   address       148398 non-null  object\n",
      " 10  menu          148398 non-null  object\n",
      "dtypes: int64(1), object(10)\n",
      "memory usage: 13.6+ MB\n"
     ]
    }
   ],
   "source": [
    "df.info()"
   ]
  },
  {
   "cell_type": "code",
   "execution_count": 49,
   "id": "b6164acc",
   "metadata": {},
   "outputs": [
    {
     "data": {
      "text/html": [
       "<div>\n",
       "<style scoped>\n",
       "    .dataframe tbody tr th:only-of-type {\n",
       "        vertical-align: middle;\n",
       "    }\n",
       "\n",
       "    .dataframe tbody tr th {\n",
       "        vertical-align: top;\n",
       "    }\n",
       "\n",
       "    .dataframe thead th {\n",
       "        text-align: right;\n",
       "    }\n",
       "</style>\n",
       "<table border=\"1\" class=\"dataframe\">\n",
       "  <thead>\n",
       "    <tr style=\"text-align: right;\">\n",
       "      <th></th>\n",
       "      <th>id</th>\n",
       "      <th>name</th>\n",
       "      <th>city</th>\n",
       "      <th>rating</th>\n",
       "      <th>rating_count</th>\n",
       "      <th>cost</th>\n",
       "      <th>cuisine</th>\n",
       "      <th>lic_no</th>\n",
       "      <th>link</th>\n",
       "      <th>address</th>\n",
       "      <th>menu</th>\n",
       "    </tr>\n",
       "  </thead>\n",
       "  <tbody>\n",
       "    <tr>\n",
       "      <th>60199</th>\n",
       "      <td>358070</td>\n",
       "      <td>Delhi Momo Co</td>\n",
       "      <td>Rajouri Garden,Delhi</td>\n",
       "      <td>--</td>\n",
       "      <td>Too Few Ratings</td>\n",
       "      <td>₹ 300</td>\n",
       "      <td>Chinese,Tandoor</td>\n",
       "      <td>license</td>\n",
       "      <td>https://www.swiggy.com/restaurants/delhi-momo-...</td>\n",
       "      <td>Delhi Momo Co, PROPERTY BEARING NO. 17/188,   ...</td>\n",
       "      <td>Menu/358070.json</td>\n",
       "    </tr>\n",
       "  </tbody>\n",
       "</table>\n",
       "</div>"
      ],
      "text/plain": [
       "           id           name                  city rating     rating_count  \\\n",
       "60199  358070  Delhi Momo Co  Rajouri Garden,Delhi     --  Too Few Ratings   \n",
       "\n",
       "        cost          cuisine   lic_no  \\\n",
       "60199  ₹ 300  Chinese,Tandoor  license   \n",
       "\n",
       "                                                    link  \\\n",
       "60199  https://www.swiggy.com/restaurants/delhi-momo-...   \n",
       "\n",
       "                                                 address              menu  \n",
       "60199  Delhi Momo Co, PROPERTY BEARING NO. 17/188,   ...  Menu/358070.json  "
      ]
     },
     "execution_count": 49,
     "metadata": {},
     "output_type": "execute_result"
    }
   ],
   "source": [
    "df.sample()"
   ]
  },
  {
   "cell_type": "code",
   "execution_count": 12,
   "id": "442d2310",
   "metadata": {},
   "outputs": [
    {
     "data": {
      "text/plain": [
       "array(['--', '4.4', '3.8', '3.7', '3.6', '4.0', '4.2', '4.7', '4.1',\n",
       "       '3.5', '3.1', '3.4', '3.3', '4.8', '3.9', '2.7', '4.3', '2.9',\n",
       "       '4.5', '2.5', '3.2', '2.4', '4.6', '3.0', '2.8', '2.3', '5.0',\n",
       "       '2.6', '2.2', '1.4', '1.9', '4.9', '2.1', '1.3', '2.0', '1.8',\n",
       "       '1.6', '1.1', '1.5', '1.0', '1.2', '1.7'], dtype=object)"
      ]
     },
     "execution_count": 12,
     "metadata": {},
     "output_type": "execute_result"
    }
   ],
   "source": [
    "df['rating'].unique()"
   ]
  },
  {
   "cell_type": "code",
   "execution_count": 13,
   "id": "d5141485",
   "metadata": {},
   "outputs": [
    {
     "name": "stdout",
     "output_type": "stream",
     "text": [
      "float64\n"
     ]
    }
   ],
   "source": [
    "df_new['rating'] = df_new['rating'].replace('--', '0')\n",
    "df_new['rating'] = pd.to_numeric(df_new['rating'], errors='coerce')\n",
    "print(df_new['rating'].dtype)"
   ]
  },
  {
   "cell_type": "code",
   "execution_count": 10,
   "id": "373f94e9",
   "metadata": {},
   "outputs": [
    {
     "data": {
      "text/plain": [
       "array(['Too Few Ratings', '50+ ratings', '100+ ratings', '20+ ratings',\n",
       "       '500+ ratings', '1K+ ratings', '5K+ ratings', '10K+ ratings'],\n",
       "      dtype=object)"
      ]
     },
     "execution_count": 10,
     "metadata": {},
     "output_type": "execute_result"
    }
   ],
   "source": [
    "df['rating_count'].unique()"
   ]
  },
  {
   "cell_type": "code",
   "execution_count": 14,
   "id": "bde6e958",
   "metadata": {},
   "outputs": [
    {
     "name": "stdout",
     "output_type": "stream",
     "text": [
      "[  0.  50. 100.  20. 500.  nan]\n"
     ]
    }
   ],
   "source": [
    "df['rating'] = df['rating'].replace('--', '0')\n",
    "df['rating'] = pd.to_numeric(df['rating'], errors='coerce')\n",
    "\n",
    "# 'rating_count' columns conversion\n",
    "\n",
    "df['rating_count'] = df['rating_count'].replace(\"Too Few Ratings\", \"0\")\n",
    "df['rating_count'] = df['rating_count'].str.replace(\"+\", \"\", regex=False)\n",
    "df['rating_count'] = df['rating_count'].str.replace(\"ratings\", \"\", regex=False).str.strip()\n",
    "df['rating_count'] = pd.to_numeric(df['rating_count'], errors='coerce')\n",
    "print(df['rating_count'].unique())"
   ]
  },
  {
   "cell_type": "code",
   "execution_count": 15,
   "id": "10184e09",
   "metadata": {},
   "outputs": [],
   "source": [
    "df['cost'] = df['cost'].str.replace(\"₹\", \"\", regex=False).str.replace(\",\", \"\").str.strip()\n",
    "df['cost'] = pd.to_numeric(df['cost'], errors='coerce')"
   ]
  },
  {
   "cell_type": "code",
   "execution_count": 16,
   "id": "36fb6b97",
   "metadata": {},
   "outputs": [
    {
     "name": "stdout",
     "output_type": "stream",
     "text": [
      "id                 0\n",
      "name               0\n",
      "city               0\n",
      "rating             0\n",
      "rating_count    2852\n",
      "cost               0\n",
      "cuisine            0\n",
      "lic_no           143\n",
      "link               0\n",
      "address            0\n",
      "menu               0\n",
      "dtype: int64\n"
     ]
    }
   ],
   "source": [
    "print(df.isna().sum())"
   ]
  },
  {
   "cell_type": "code",
   "execution_count": 17,
   "id": "92b54d10",
   "metadata": {},
   "outputs": [],
   "source": [
    "df['rating_count'] = df['rating_count'].fillna(0)"
   ]
  },
  {
   "cell_type": "code",
   "execution_count": 18,
   "id": "715b71fb",
   "metadata": {},
   "outputs": [
    {
     "data": {
      "text/plain": [
       "np.int64(0)"
      ]
     },
     "execution_count": 18,
     "metadata": {},
     "output_type": "execute_result"
    }
   ],
   "source": [
    "df['rating_count'].isna().sum()"
   ]
  },
  {
   "cell_type": "code",
   "execution_count": 19,
   "id": "7b3e3602",
   "metadata": {},
   "outputs": [],
   "source": [
    "# Dropping 'lic_no' , 'link, address, and menu' columns for display in the Streamlit app.\n",
    "df = df.drop(columns=['lic_no','link','address','menu'])"
   ]
  },
  {
   "cell_type": "code",
   "execution_count": 21,
   "id": "3a3d5524",
   "metadata": {},
   "outputs": [
    {
     "data": {
      "text/html": [
       "<div>\n",
       "<style scoped>\n",
       "    .dataframe tbody tr th:only-of-type {\n",
       "        vertical-align: middle;\n",
       "    }\n",
       "\n",
       "    .dataframe tbody tr th {\n",
       "        vertical-align: top;\n",
       "    }\n",
       "\n",
       "    .dataframe thead th {\n",
       "        text-align: right;\n",
       "    }\n",
       "</style>\n",
       "<table border=\"1\" class=\"dataframe\">\n",
       "  <thead>\n",
       "    <tr style=\"text-align: right;\">\n",
       "      <th></th>\n",
       "      <th>id</th>\n",
       "      <th>name</th>\n",
       "      <th>city</th>\n",
       "      <th>rating</th>\n",
       "      <th>rating_count</th>\n",
       "      <th>cost</th>\n",
       "      <th>cuisine</th>\n",
       "    </tr>\n",
       "  </thead>\n",
       "  <tbody>\n",
       "    <tr>\n",
       "      <th>113777</th>\n",
       "      <td>103748</td>\n",
       "      <td>The Pancake Story</td>\n",
       "      <td>Bajaj Nagar,Nagpur</td>\n",
       "      <td>4.5</td>\n",
       "      <td>50.0</td>\n",
       "      <td>300</td>\n",
       "      <td>Bakery,Desserts</td>\n",
       "    </tr>\n",
       "  </tbody>\n",
       "</table>\n",
       "</div>"
      ],
      "text/plain": [
       "            id               name                city  rating  rating_count  \\\n",
       "113777  103748  The Pancake Story  Bajaj Nagar,Nagpur     4.5          50.0   \n",
       "\n",
       "        cost          cuisine  \n",
       "113777   300  Bakery,Desserts  "
      ]
     },
     "execution_count": 21,
     "metadata": {},
     "output_type": "execute_result"
    }
   ],
   "source": [
    "df.sample()"
   ]
  },
  {
   "cell_type": "code",
   "execution_count": 22,
   "id": "0c4fbd63",
   "metadata": {},
   "outputs": [],
   "source": [
    "df.set_index('id', inplace=True)"
   ]
  },
  {
   "cell_type": "code",
   "execution_count": 23,
   "id": "c9a400f9",
   "metadata": {},
   "outputs": [
    {
     "name": "stdout",
     "output_type": "stream",
     "text": [
      "['Abohar' 'Adilabad' 'Adityapur' 'Adoni' 'Agartala' 'Agra' 'Ahmedabad'\n",
      " 'Ahmednagar' 'Aizawl' 'Ajmer' 'Akola' 'Alappuzha' 'Aligarh' 'Alipurduar'\n",
      " 'Allahabad' 'Alwar' 'Ambala' 'Ambikapur' 'Ambur' 'Amravati' 'Amreli'\n",
      " 'Amritsar' 'Anand' 'Anantapur' 'Ankleshwar' 'Arakkonam' 'Arambagh'\n",
      " 'Arrah' 'Aruppukottai' 'Asansol' 'Aurangabad' 'Aurangabad_bihar'\n",
      " 'Azamgarh' 'Baddi' 'Bagalkot' 'Bagdogra' 'Bahadurgarh' 'Bahraich'\n",
      " 'Balaghat' 'Balangir' 'Balasore' 'Ballari' 'Balrampur' 'Balurghat'\n",
      " 'Banda' 'Bangalore' 'Bantwal' 'Bapatlachirala' 'Baramati' 'Baran'\n",
      " 'Bardhaman' 'Bardoli' 'Bareilly' 'Barmer' 'Barnala' 'Barshi' 'Barwani'\n",
      " 'Basirhat' 'Basti' 'Batala' 'Bathinda' 'Beawar' 'Beed' 'Begusarai'\n",
      " 'Bela-pratapgarh' 'Belgaum' 'Berhampore' 'Berhampur' 'Bettiah' 'Betul'\n",
      " 'Bhadohi' 'Bhadrachalam' 'Bhagalpur' 'Bhandara' 'Bharabanki' 'Bharatpur'\n",
      " 'Bharuch' 'Bhatkal' 'Bhavnagar' 'Bhawanipatna' 'Bhilai' 'Bhilwara'\n",
      " 'Bhimavaram' 'Bhind' 'Bhiwadi' 'Bhiwani' 'Bhopal' 'Bhubaneswar' 'Bhuj'\n",
      " 'Bhusawal' 'Bidar' 'Biharsharif' 'Bijapur' 'Bijnor' 'Bikaner' 'Bilaspur'\n",
      " 'Bilimora' 'Bodhan-rural' 'Bodinayakanur' 'Boisar' 'Bokaro' 'Bolpur'\n",
      " 'Bongaigaon' 'Bongaon' 'Budaun' 'Budhwal' 'Bulandshahr' 'Buldana' 'Bundi'\n",
      " 'Burhanpur' 'Buxar' 'Central-goa' 'Chakdaha' 'Chalakkudy' 'Chalisgaon'\n",
      " 'Chandausi' 'Chandigarh' 'Chandrapur' 'Changanassery' 'Chengannur'\n",
      " 'Chennai' 'Cherthala' 'Chhapra' 'Chhatarpur' 'Chhindwara' 'Chidambaram'\n",
      " 'Chikhli' 'Chikkaballapur' 'Chikmagalur' 'Chiplun' 'Chitradurga'\n",
      " 'Chittoor' 'Chittorgarh' 'Chopda' 'Churu' 'Coimbatore' 'Cooch-behar'\n",
      " 'Cuddalore' 'Cuttack' 'Dahanu' 'Dahod' 'Daman' 'Darbhanga' 'Darjeeling'\n",
      " 'Dausa' 'Davanagere' 'Dehradun' 'Dehri' 'Delhi' 'Deoghar' 'Dewas'\n",
      " 'Dhanbad' 'Dhar' 'Dharamshala' 'Dharmapuri' 'Dharwad' 'Dhoraji' 'Dhule'\n",
      " 'Dibrugarh' 'Dimapur' 'Dindigul' 'Diu' 'Doddaballapura' 'Duliajan'\n",
      " 'Dumka' 'Durgapur' 'Eluru' 'Erode' 'Etawah' 'Faizabad' 'Faridabad'\n",
      " 'Faridkot' 'Farrukhabad' 'Fatehabad' 'Fatehgarh-sahib' 'Fatehpur'\n",
      " 'Fazilka' 'Firozabad' 'Firozpur' 'Gadag-betigeri' 'Gadwal' 'Gandhidham'\n",
      " 'Gangapur-city' 'Gangtok' 'Gauriganj' 'Gaya' 'Giridih' 'Godhra' 'Gokak'\n",
      " 'Golaghat' 'Gonda' 'Gondal' 'Gondia' 'Gopalganj' 'Gorakhpur' 'Gudivada'\n",
      " 'Guna' 'Guntakal' 'Guntur' 'Gurdaspur' 'Gurgaon' 'Guwahati' 'Gwalior'\n",
      " 'Habra' 'Haldia' 'Haldwani' 'Halol' 'Hampi' 'Hansi' 'Hanumangarh' 'Hapur'\n",
      " 'Hardoi' 'Haridwar' 'Hassan' 'Himmatnagar' 'Hindaun' 'Hinganghat' 'Hisar'\n",
      " 'Hoshangabad' 'Hoshiarpur' 'Hospet' 'Hubli' 'Hyderabad' 'Ichalkaranji'\n",
      " 'Imphal' 'Indore' 'Irinjalakuda' 'Itanagar' 'Itarsi' 'Jabalpur'\n",
      " 'Jagdalpur' 'Jagraon' 'Jagtial' 'Jahanabad' 'Jaipur' 'Jalaun' 'Jalgaon'\n",
      " 'Jalpaiguri' 'Jammu' 'Jamnagar' 'Jamshedpur' 'Jaunpur' 'Jhalawar'\n",
      " 'Jhansi' 'Jhargram' 'Jhunjhunu' 'Jind' 'Jodhpur' 'Jorhat' 'Junagadh'\n",
      " 'Kadapa' 'Kadayanallur' 'Kadiri' 'Kaithal' 'Kakinada' 'Kalaburagi'\n",
      " 'Kalady' 'Kamareddy' 'Kanchrapara' 'Kannauj' 'Kannur' 'Kanpur'\n",
      " 'Kanyakumari' 'Kapurthala' 'Karad' 'Karaikkudi' 'Karimnagar' 'Karnal'\n",
      " 'Karunagappaly' 'Karur' 'Karwar' 'Kasaragod' 'Kashipur' 'Katihar' 'Katni'\n",
      " 'Kavali' 'Kayamkulam' 'Kendujhar' 'Khamgaon' 'Khammam' 'Khandwa' 'Khanna'\n",
      " 'Kharagpur' 'Kishanganj' 'Kishangarh' 'Kochi' 'Kodaikanal' 'Kohima'\n",
      " 'Kolar' 'Kolhapur' 'Kolkata' 'Kollam' 'Kopargaon' 'Koppal' 'Korba' 'Kota'\n",
      " 'Kotdwar' 'Kothagudem' 'Kothamanagalam' 'Kottakkal' 'Kottarakkara'\n",
      " 'Kottayam' 'Kovilpatti' 'Kozhikode' 'Krishnagiri' 'Krishnanagar'\n",
      " 'Kumarakom' 'Kumbakonam' 'Kumta' 'Kundapura' 'Kunnamkullam' 'Kurnool'\n",
      " 'Kurukshetra' 'Lakhimpur' 'Lalitpur' 'Latur' 'Lonavala' 'Lonavla'\n",
      " 'Lucknow' 'Ludhiana' 'Machilipatnam' 'Madanapalle' 'Madhubani' 'Madikeri'\n",
      " 'Madurai' 'Mahbubnagar' 'Malappuram' 'Malda' 'Malegaon' 'Malout' 'Manali'\n",
      " 'Mancherial' 'Mandi-dabwali' 'Mandi-gobindgarh' 'Mandsaur' 'Mandya'\n",
      " 'Mangaluru' 'Manipal' 'Manjeri' 'Mansa' 'Markapur' 'Mathura'\n",
      " 'Maunath-bhanjan' 'Mayiladuthurai' 'Medinipur' 'Meerut' 'Mehsana'\n",
      " 'Miryalaguda' 'Mirzapur' 'Modinagar' 'Moga' 'Moodbidri' 'Moradabad'\n",
      " 'Morbi' 'Morena' 'Motihari' 'Mount-abu' 'Mughalsarai' 'Muktsar' 'Mumbai'\n",
      " 'Munger' 'Murshidabad' 'Mussoorie' 'Muvattupuzha' 'Muzaffarnagar'\n",
      " 'Muzaffarpur' 'Mysore' 'Nabadwip' 'Nadiad' 'Nagaon' 'Nagapattinam'\n",
      " 'Nagda' 'Nagercoil' 'Nagpur' 'Naharlagun' 'Nainital' 'Nalgonda'\n",
      " 'Namakkal' 'Nanded' 'Nandurbar' 'Nandyal' 'Nangal' 'Naraingarh'\n",
      " 'Narasaraopet' 'Narnaul' 'Narsinghpur' 'Navsari' 'Neemuch' 'Nellore'\n",
      " 'Neyveli' 'Nipani' 'Nirmal' 'Nizamabad' 'Noida' 'Noida-1' 'North-goa'\n",
      " 'Ongole' 'Ooty' 'Orai' 'Osmanabad' 'Pala' 'Palakkad' 'Palampur' 'Palani'\n",
      " 'Palanpur' 'Pali' 'Panipat' 'Parbhani' 'Pathankot' 'Patiala' 'Patna'\n",
      " 'Perinthalmanna' 'Phagwara' 'Pilibhit' 'Pondicherry' 'Porbandar'\n",
      " 'Proddatur' 'Pudukkottai' 'Pune' 'Puri' 'Purnea' 'Purulia' 'Pusad'\n",
      " 'Puttur' 'Rae-bareli' 'Raghunathpur' 'Raichur' 'Raiganj' 'Raigarh'\n",
      " 'Raipur' 'Rajahmundry' 'Rajapalayam' 'Rajkot' 'Rajnandgaon' 'Rajsamand'\n",
      " 'Ramagundam' 'Ramanagara' 'Ramanathapuram' 'Rampur' 'Ranaghat-wb'\n",
      " 'Ranchi' 'Rangpo' 'Ranibennur' 'Raniganj' 'Ratlam' 'Ratnagiri'\n",
      " 'Rayachoty' 'Rewa' 'Rewari' 'Rishikesh' 'Rohtak' 'Roorkee' 'Ropar'\n",
      " 'Rourkela' 'Rudrapur' 'Sagar' 'Saharanpur' 'Saharsa' 'Salem' 'Samastipur'\n",
      " 'Sambalpur' 'Sangamner' 'Sangli' 'Sangrur' 'Sasaram' 'Satara' 'Satna'\n",
      " 'Sawai-madhopur' 'Sehore' 'Shahjahanpur' 'Shikohabad' 'Shillong' 'Shimla'\n",
      " 'Shivamogga' 'Shivpuri' 'Shrirampur' 'Siddipet' 'Sikar' 'Silchar'\n",
      " 'Siliguri' 'Silvassa' 'Sindhanur' 'Singrauli' 'Sirsa' 'Sirsi' 'Sitapur'\n",
      " 'Sivakasi' 'Sivasagar' 'Siwan' 'Solan' 'Solapur' 'Sonipat' 'South-goa'\n",
      " 'Sri-ganganagar' 'Srikakulam' 'Srivilliputhur' 'Sultanpur' 'Surat'\n",
      " 'Suratgarh' 'Surendranagar-dudhrej' 'Suryapet' 'Tadepalligudem'\n",
      " 'Tadpatri' 'Tanuku' 'Tarn-taran-sahib' 'Tenkasi' 'Tezpur' 'Thalassery'\n",
      " 'Thanjavur' 'Theni' 'Thiruvalla' 'Thiruvallur' 'Thiruvananthapuram'\n",
      " 'Thiruvarur' 'Thodupuzha' 'Thoothukudi' 'Thrissur' 'Tinsukia' 'Tiptur'\n",
      " 'Tirunelveli' 'Tirupati' 'Tirupur' 'Tiruvannamalai' 'Tohana' 'Trichy'\n",
      " 'Tumakuru' 'Tuni' 'Udaipur' 'Udgir' 'Ujjain' 'Uluberia' 'Uran-islampur'\n",
      " 'Vadodara' 'Valsad' 'Vapi' 'Varanasi' 'Varkala' 'Vellore' 'Veraval'\n",
      " 'Vidisha' 'Vijayawada' 'Virudhunagar' 'Visnagar' 'Vizag' 'Vizianagaram'\n",
      " 'Vyara' 'Waidhan' 'Warangal' 'Wardha' 'Washim' 'Yamuna-nagar' 'Yavatmal']\n"
     ]
    }
   ],
   "source": [
    "# extracting main city\n",
    "df['city'] = df['city'].apply(lambda x: x.split(',')[-1].strip())\n",
    "print(df['city'].unique())"
   ]
  },
  {
   "cell_type": "code",
   "execution_count": 19,
   "id": "ce0f5d36",
   "metadata": {},
   "outputs": [],
   "source": [
    "from sklearn.preprocessing import OneHotEncoder\n",
    "from sklearn.preprocessing import LabelEncoder\n",
    "import pickle"
   ]
  },
  {
   "cell_type": "code",
   "execution_count": null,
   "id": "3a91b7e4",
   "metadata": {},
   "outputs": [
    {
     "name": "stdout",
     "output_type": "stream",
     "text": [
      "✅ Encoded dataset saved as 'encoded_data.csv'\n"
     ]
    }
   ],
   "source": [
    "# Selecting features for encoding and modeling\n",
    "df_model = df[['name','city', 'cuisine', 'rating', 'rating_count', 'cost']].copy()\n",
    "\n",
    "# Label Encoding\n",
    "le = LabelEncoder()\n",
    "df_model['name_encoded'] = le.fit_transform(df['name'])\n",
    "\n",
    "with open(\"name_label_encoder.pkl\", \"wb\") as f:\n",
    "    pickle.dump(le, f)\n",
    "\n",
    "# One-Hot Encoding: city & cuisine\n",
    "categorical_cols = ['city', 'cuisine']\n",
    "encoder = OneHotEncoder(handle_unknown='ignore', sparse_output=False)\n",
    "\n",
    "# Fit and transform\n",
    "encoded_array = encoder.fit_transform(df_model[categorical_cols])\n",
    "\n",
    "with open(\"encoder.pkl\", \"wb\") as f:\n",
    "    pickle.dump(encoder, f)\n",
    "\n",
    "# DataFrame of encoded features\n",
    "encoded_df = pd.DataFrame(encoded_array, columns=encoder.get_feature_names_out(categorical_cols))\n",
    "\n",
    "# Adding back numerical columns including name_encoded\n",
    "numerical_df = df_model[['name_encoded', 'rating', 'rating_count', 'cost']].reset_index(drop=True)\n",
    "final_encoded_df = pd.concat([encoded_df, numerical_df], axis=1)\n",
    "\n",
    "\n",
    "final_encoded_df.to_csv(\"encoded_data.csv\", index=False)\n",
    "print(\"✅ Encoded dataset saved as 'encoded_data.csv'\")"
   ]
  },
  {
   "cell_type": "code",
   "execution_count": null,
   "id": "3f191c99",
   "metadata": {},
   "outputs": [],
   "source": [
    "final_encoded_df = pd.concat([encoded_df, numerical_df], axis=1)"
   ]
  },
  {
   "cell_type": "code",
   "execution_count": null,
   "id": "8d0776c9",
   "metadata": {},
   "outputs": [],
   "source": [
    "df_model = df[['name','city', 'cuisine', 'rating', 'rating_count', 'cost']].copy()\n",
    "\n",
    "# To ensure final_encoded_df has same number of rows and same order\n",
    "final_encoded_df.index = df.index  "
   ]
  },
  {
   "cell_type": "code",
   "execution_count": null,
   "id": "26766c51",
   "metadata": {},
   "outputs": [
    {
     "name": "stdout",
     "output_type": "stream",
     "text": [
      "✅ Row count matches.\n",
      "✅ Index match confirmed.\n"
     ]
    }
   ],
   "source": [
    "df = pd.read_csv(\"cleaned_data.csv\")\n",
    "final_encoded_dfencoded_df = pd.read_csv(\"encoded_data.csv\")\n",
    "\n",
    "# Checking row counts\n",
    "if df.shape[0] == encoded_df.shape[0]:\n",
    "    print(\"✅ Row count matches.\")\n",
    "else:\n",
    "    print(\"❌ Row count mismatch!\")\n",
    "\n",
    "# Checking index match\n",
    "if (df.index == encoded_df.index).all():\n",
    "    print(\"✅ Index match confirmed.\")\n",
    "else:\n",
    "    print(\"ℹ️ Index mismatch. Resetting index...\")\n",
    "    df.reset_index(drop=True, inplace=True)\n",
    "    encoded_df.reset_index(drop=True, inplace=True)\n",
    "    print(\"✅ Index reset and matched.\")"
   ]
  },
  {
   "cell_type": "code",
   "execution_count": 24,
   "id": "c00816fa",
   "metadata": {},
   "outputs": [
    {
     "data": {
      "image/png": "[encoded data removed]",
      "text/plain": [
       "<Figure size 800x500 with 1 Axes>"
      ]
     },
     "metadata": {},
     "output_type": "display_data"
    }
   ],
   "source": [
    "from sklearn.cluster import KMeans\n",
    "import matplotlib.pyplot as plt\n",
    "\n",
    "encoded_df = pd.read_csv(\"encoded_data.csv\")\n",
    "\n",
    "if 'name_encoded' in encoded_df.columns:\n",
    "    encoded_df = encoded_df.drop(columns=['name_encoded'])\n",
    "    \n",
    "# Elbow Method to determine optimal K\n",
    "inertia = []\n",
    "k_range = range(2, 12)  \n",
    "\n",
    "for k in k_range:\n",
    "    kmeans = KMeans(n_clusters=k, random_state=42, n_init=10)\n",
    "    kmeans.fit(encoded_df)\n",
    "    inertia.append(kmeans.inertia_)\n",
    "\n",
    "# Plot the Elbow Curve\n",
    "plt.figure(figsize=(8, 5))\n",
    "plt.plot(k_range, inertia, marker='o')\n",
    "plt.title(\"Elbow Method for Optimal K\")\n",
    "plt.xlabel(\"Number of Clusters (K)\")\n",
    "plt.ylabel(\"Inertia\")\n",
    "plt.grid(True)\n",
    "plt.tight_layout()\n",
    "plt.savefig(\"elbow_plot.png\")\n",
    "plt.show()\n"
   ]
  },
  {
   "cell_type": "code",
   "execution_count": 25,
   "id": "8fc081b8",
   "metadata": {},
   "outputs": [],
   "source": [
    "from sklearn.metrics import silhouette_score\n"
   ]
  },
  {
   "cell_type": "code",
   "execution_count": null,
   "id": "37c33602",
   "metadata": {},
   "outputs": [
    {
     "name": "stdout",
     "output_type": "stream",
     "text": [
      "Silhouette Score for K=5: 0.3971\n"
     ]
    }
   ],
   "source": [
    "from sklearn.utils import resample\n",
    "\n",
    "# Sampling the dataset to speed up computation\n",
    "X_sample = resample(encoded_df, n_samples=50000, random_state=42)\n",
    "\n",
    "# KMeans on the sample\n",
    "kmeans = KMeans(n_clusters=5, random_state=42)\n",
    "labels = kmeans.fit_predict(X_sample)\n",
    "\n",
    "# silhouette score\n",
    "score = silhouette_score(X_sample, labels)\n",
    "print(f\"Silhouette Score for K=5: {score:.4f}\")"
   ]
  },
  {
   "cell_type": "code",
   "execution_count": 13,
   "id": "d96fe470",
   "metadata": {},
   "outputs": [
    {
     "name": "stdout",
     "output_type": "stream",
     "text": [
      "K=4 => Silhouette Score: 0.5840\n",
      "K=5 => Silhouette Score: 0.3971\n",
      "K=6 => Silhouette Score: 0.4830\n"
     ]
    }
   ],
   "source": [
    "for k in [4, 5, 6]:\n",
    "    kmeans = KMeans(n_clusters=k, random_state=42)\n",
    "    labels = kmeans.fit_predict(X_sample)\n",
    "    score = silhouette_score(X_sample, labels)\n",
    "    print(f\"K={k} => Silhouette Score: {score:.4f}\")\n"
   ]
  },
  {
   "cell_type": "code",
   "execution_count": null,
   "id": "a1629c11",
   "metadata": {},
   "outputs": [],
   "source": [
    "# Reading encoded_data.csv in manageable chunks\n",
    "chunk_list = []\n",
    "chunksize = 5000\n",
    "\n",
    "for chunk in pd.read_csv(\"encoded_data.csv\", chunksize=chunksize):\n",
    "    chunk_list.append(chunk)\n",
    "\n",
    "# Combine chunks into a single DataFrame\n",
    "encoded_df = pd.concat(chunk_list, ignore_index=True)"
   ]
  },
  {
   "cell_type": "code",
   "execution_count": null,
   "id": "fe33d49a",
   "metadata": {},
   "outputs": [
    {
     "name": "stdout",
     "output_type": "stream",
     "text": [
      "✅ Final K-Means model trained and saved as 'kmeans_model.pkl'\n"
     ]
    }
   ],
   "source": [
    "# Drop 'name_encoded' column if it exists \n",
    "if 'name_encoded' in encoded_df.columns:\n",
    "    encoded_df = encoded_df.drop(columns=['name_encoded'])\n",
    "\n",
    "# Final K-Means Clustering with optimal K=4\n",
    "kmeans = KMeans(n_clusters=4, random_state=42, n_init=10)\n",
    "kmeans.fit(encoded_df)\n",
    "\n",
    "# Save as pickle\n",
    "with open(\"kmeans_model.pkl\", \"wb\") as f:\n",
    "    pickle.dump(kmeans, f)\n",
    "\n",
    "print(\"✅ Final K-Means model trained and saved as 'kmeans_model.pkl'\")\n"
   ]
  },
  {
   "cell_type": "code",
   "execution_count": null,
   "id": "618ead03",
   "metadata": {},
   "outputs": [
    {
     "name": "stdout",
     "output_type": "stream",
     "text": [
      "                name    city                     cuisine rating\n",
      "0     AB FOODS POINT  Abohar            Beverages,Pizzas     --\n",
      "1  Janta Sweet House  Abohar               Sweets,Bakery    4.4\n",
      "2  theka coffee desi  Abohar                   Beverages    3.8\n",
      "3          Singh Hut  Abohar            Fast Food,Indian    3.7\n",
      "4      GRILL MASTERS  Abohar  Italian-American,Fast Food     --\n"
     ]
    }
   ],
   "source": [
    "# Parameters\n",
    "chunksize = 5000\n",
    "\n",
    "# Load cleaned dataset\n",
    "df_clean = pd.read_csv(\"cleaned_data.csv\")\n",
    "\n",
    "# Initialize the cluster column\n",
    "df_clean['cluster'] = -1\n",
    "\n",
    "# Load pre-trained KMeans model\n",
    "with open(\"kmeans_model.pkl\", \"rb\") as f:\n",
    "    kmeans = pickle.load(f)\n",
    "\n",
    "# Drop 'name_encoded' during prediction if it exists\n",
    "row_start = 0\n",
    "for chunk in pd.read_csv(\"encoded_data.csv\", chunksize=chunksize):\n",
    "    if 'name_encoded' in chunk.columns:\n",
    "        chunk = chunk.drop(columns=['name_encoded'])\n",
    "\n",
    "    # Predict cluster labels for the chunk\n",
    "    preds = kmeans.predict(chunk)\n",
    "\n",
    "    # Assign corresponding rows in df_clean\n",
    "    df_clean.iloc[row_start:row_start + len(preds), df_clean.columns.get_loc('cluster')] = preds\n",
    "    row_start += len(preds)\n",
    "\n",
    "# recommendation function\n",
    "def recommend_by_cluster(restaurant_name, top_n=5):\n",
    "    matches = df_clean[df_clean['name'].str.lower() == restaurant_name.lower()]\n",
    "    if matches.empty:\n",
    "        return f\"❌ Restaurant '{restaurant_name}' not found.\"\n",
    "\n",
    "    cluster_id = matches.iloc[0]['cluster']\n",
    "    cluster_group = df_clean[df_clean['cluster'] == cluster_id]\n",
    "\n",
    "    # Exclude input restaurant\n",
    "    recommendations = cluster_group[cluster_group['name'].str.lower() != restaurant_name.lower()]\n",
    "    \n",
    "    return recommendations[['name', 'city', 'cuisine', 'rating']].head(top_n)\n",
    "\n",
    "# Example \n",
    "result = recommend_by_cluster(\"Domino's Pizza\")\n",
    "print(result)\n"
   ]
  },
  {
   "cell_type": "code",
   "execution_count": null,
   "id": "6c48eeba",
   "metadata": {},
   "outputs": [
    {
     "name": "stdout",
     "output_type": "stream",
     "text": [
      "✅ Clustered data saved to 'clustered_data.csv'\n"
     ]
    }
   ],
   "source": [
    "df_clean.to_csv(\"clustered_data.csv\", index=False)\n",
    "\n",
    "print(\"✅ Clustered data saved to 'clustered_data.csv'\")"
   ]
  },
  {
   "cell_type": "code",
   "execution_count": null,
   "id": "db89da01",
   "metadata": {},
   "outputs": [
    {
     "name": "stdout",
     "output_type": "stream",
     "text": [
      "✅ Clustered data saved to 'clustered_data.pkl'\n"
     ]
    }
   ],
   "source": [
    "# clustered_data pickle \n",
    "with open(\"clustered_data.pkl\", \"wb\") as f:\n",
    "    pickle.dump(df_clean, f)\n",
    "\n",
    "print(\"✅ Clustered data saved to 'clustered_data.pkl'\")"
   ]
  },
  {
   "cell_type": "code",
   "execution_count": null,
   "id": "1e4a8e61",
   "metadata": {},
   "outputs": [
    {
     "data": {
      "text/plain": [
       "['kmeans_model_fixed.joblib']"
      ]
     },
     "execution_count": 36,
     "metadata": {},
     "output_type": "execute_result"
    }
   ],
   "source": [
    "from sklearn.preprocessing import LabelEncoder\n",
    "from sklearn.cluster import KMeans\n",
    "import numpy as np\n",
    "import joblib\n",
    "\n",
    "df = pd.read_csv(\"cleaned_data.csv\")\n",
    "df['cost'] = df['cost'].astype(str).str.replace('₹', '', regex=False).str.replace(',', '', regex=False).str.strip()\n",
    "df['cost'] = pd.to_numeric(df['cost'], errors='coerce').fillna(0).astype(int)\n",
    "df['rating'] = pd.to_numeric(df['rating'], errors='coerce').fillna(0.0)\n",
    "\n",
    "# Label encoder\n",
    "le_city = LabelEncoder()\n",
    "le_cuisine = LabelEncoder()\n",
    "df['city_enc'] = le_city.fit_transform(df['city'])\n",
    "df['cuisine_enc'] = le_cuisine.fit_transform(df['cuisine'])\n",
    "\n",
    "# Stacking all inputs as 2D arrays\n",
    "X = np.hstack((\n",
    "    df['city_enc'].values.reshape(-1, 1),\n",
    "    df['cuisine_enc'].values.reshape(-1, 1),\n",
    "    df[['rating', 'cost']].values\n",
    "))\n",
    "\n",
    "# Training KMeans\n",
    "kmeans = KMeans(n_clusters=4, random_state=42)\n",
    "kmeans.fit(X)\n",
    "\n",
    "# Saving models\n",
    "joblib.dump(le_city, 'le_city.joblib')\n",
    "joblib.dump(le_cuisine, 'le_cuisine.joblib')\n",
    "joblib.dump(kmeans, 'kmeans_model_fixed.joblib')\n"
   ]
  }
 ],
 "metadata": {
  "kernelspec": {
   "display_name": "Python 3",
   "language": "python",
   "name": "python3"
  },
  "language_info": {
   "codemirror_mode": {
    "name": "ipython",
    "version": 3
   },
   "file_extension": ".py",
   "mimetype": "text/x-python",
   "name": "python",
   "nbconvert_exporter": "python",
   "pygments_lexer": "ipython3",
   "version": "3.13.3"
  }
 },
 "nbformat": 4,
 "nbformat_minor": 5
}
